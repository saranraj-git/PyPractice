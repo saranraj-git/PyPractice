{
 "cells": [
  {
   "cell_type": "markdown",
   "metadata": {},
   "source": [
    "File operations in Python\n",
    "Mainly going to discuss about the following operations such as \n",
    "1. File creation\n",
    "2. File read\n",
    "3. File Write\n",
    "4. File Update/modify\n",
    "5. File Delete"
   ]
  },
  {
   "cell_type": "markdown",
   "metadata": {},
   "source": [
    "Lets see File Creation part:"
   ]
  },
  {
   "cell_type": "code",
   "execution_count": 3,
   "metadata": {},
   "outputs": [],
   "source": [
    "with open(\"testfile.txt\",\"w+\") as t:\n",
    "    t.write(\"First line\")\n"
   ]
  },
  {
   "cell_type": "code",
   "execution_count": 8,
   "metadata": {},
   "outputs": [],
   "source": [
    "with open(\"testfile.txt\",\"a+\") as t:\n",
    "    t.writelines(\"second line \\\n",
    "                 third line  \\\n",
    "                 fourth line\")"
   ]
  },
  {
   "cell_type": "code",
   "execution_count": 9,
   "metadata": {},
   "outputs": [],
   "source": [
    "test = \"\"\"\n",
    "This is my\n",
    "Second multi\n",
    "line comment\n",
    "how cool is that\n",
    "\"\"\""
   ]
  },
  {
   "cell_type": "code",
   "execution_count": 10,
   "metadata": {},
   "outputs": [],
   "source": [
    "with open(\"testfile.txt\",\"a+\") as t:\n",
    "    t.writelines(test)"
   ]
  },
  {
   "cell_type": "markdown",
   "metadata": {},
   "source": [
    "To Read the files and print each line then here is a simple code"
   ]
  },
  {
   "cell_type": "code",
   "execution_count": 18,
   "metadata": {},
   "outputs": [
    {
     "name": "stdout",
     "output_type": "stream",
     "text": [
      "second line\n",
      "\n",
      "This is my\n",
      "\n",
      "Second multi\n",
      "\n",
      "line comment\n",
      "\n",
      "how cool is that\n",
      "\n"
     ]
    }
   ],
   "source": [
    "with open(\"testfile.txt\",\"r\") as t:\n",
    "    for eachline in t.readlines():\n",
    "        print(eachline)"
   ]
  },
  {
   "cell_type": "raw",
   "metadata": {},
   "source": [
    "To check the file exists before reading : "
   ]
  },
  {
   "cell_type": "code",
   "execution_count": 21,
   "metadata": {},
   "outputs": [],
   "source": [
    "with open(\"testfile.txt\",\"a+\") as t:\n",
    "    t.writelines(test)\n"
   ]
  },
  {
   "cell_type": "code",
   "execution_count": null,
   "metadata": {},
   "outputs": [],
   "source": [
    "def IsFileExists():\n",
    "    "
   ]
  }
 ],
 "metadata": {
  "kernelspec": {
   "display_name": "Python 3",
   "language": "python",
   "name": "python3"
  },
  "language_info": {
   "codemirror_mode": {
    "name": "ipython",
    "version": 3
   },
   "file_extension": ".py",
   "mimetype": "text/x-python",
   "name": "python",
   "nbconvert_exporter": "python",
   "pygments_lexer": "ipython3",
   "version": "3.8.1"
  }
 },
 "nbformat": 4,
 "nbformat_minor": 4
}
